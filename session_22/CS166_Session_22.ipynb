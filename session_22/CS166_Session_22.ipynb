{
  "nbformat": 4,
  "nbformat_minor": 0,
  "metadata": {
    "colab": {
      "name": "CS166 Session 22.ipynb",
      "provenance": [],
      "collapsed_sections": [],
      "authorship_tag": "ABX9TyNKmzNz/WX+bVJ+MhKOinpy",
      "include_colab_link": true
    },
    "kernelspec": {
      "name": "python3",
      "display_name": "Python 3"
    },
    "language_info": {
      "name": "python"
    }
  },
  "cells": [
    {
      "cell_type": "markdown",
      "metadata": {
        "id": "view-in-github",
        "colab_type": "text"
      },
      "source": [
        "<a href=\"https://colab.research.google.com/github/sherlockieee/cs166/blob/main/session_22/CS166_Session_22.ipynb\" target=\"_parent\"><img src=\"https://colab.research.google.com/assets/colab-badge.svg\" alt=\"Open In Colab\"/></a>"
      ]
    },
    {
      "cell_type": "markdown",
      "source": [
        "Question: Given the information above, what is the theoretical estimate for the number of\n",
        "nodes in the LCC, expressed in terms of the known variables, n, q, and ⟨k⟩ ?\n",
        "\n",
        "Since q is the probability that a random node is not a part of the LCC of the network, 1 - q is the probability the random node is a part of the LCC.\n",
        "\n",
        "=> Size of LCC = $(1 - q)*n$"
      ],
      "metadata": {
        "id": "ZGSJhTQs8w6f"
      }
    },
    {
      "cell_type": "code",
      "execution_count": 8,
      "metadata": {
        "colab": {
          "base_uri": "https://localhost:8080/",
          "height": 297
        },
        "id": "cFSY-L448rNy",
        "outputId": "b9899ea0-7573-44d3-91f8-ada7a3f0e4f6"
      },
      "outputs": [
        {
          "output_type": "execute_result",
          "data": {
            "text/plain": [
              "Text(0, 0.5, 'Size of LCC network')"
            ]
          },
          "metadata": {},
          "execution_count": 8
        },
        {
          "output_type": "display_data",
          "data": {
            "text/plain": [
              "<Figure size 432x288 with 1 Axes>"
            ],
            "image/png": "[encoded data removed]"
          },
          "metadata": {
            "needs_background": "light"
          }
        }
      ],
      "source": [
        "import matplotlib.pyplot as plt\n",
        "import numpy as np\n",
        "\n",
        "\n",
        "def calculate_q(k):\n",
        "    '''\n",
        "    Use a numerical root finder to determine q from the equation\n",
        "    q = exp(k*(q­1)).\n",
        "    '''\n",
        "    from scipy.optimize import root\n",
        "    return root(lambda q: q - np.exp(k * (q - 1)), 0).x[0]\n",
        "\n",
        "def calculate_lcc_size(n, k):\n",
        "    q = calculate_q(k)\n",
        "    return (1 - q) * n\n",
        "\n",
        "n = 1000\n",
        "k_vals = np.linspace(1, 11, 100)\n",
        "lcc_sizes = [calculate_lcc_size(n, k) for k in k_vals]\n",
        "\n",
        "plt.plot(k_vals, lcc_sizes)\n",
        "plt.xlabel(\"Average degree of network\")\n",
        "plt.ylabel(\"Size of LCC network\")\n"
      ]
    },
    {
      "cell_type": "code",
      "source": [
        ""
      ],
      "metadata": {
        "id": "C4bLzxiK9jqV"
      },
      "execution_count": null,
      "outputs": []
    }
  ]
}