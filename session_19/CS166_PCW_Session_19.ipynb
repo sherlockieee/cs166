{
  "nbformat": 4,
  "nbformat_minor": 0,
  "metadata": {
    "colab": {
      "name": "CS166 PCW Session 19.ipynb",
      "provenance": [],
      "authorship_tag": "ABX9TyOVZam/rpXkgeiInzoXoS/h",
      "include_colab_link": true
    },
    "kernelspec": {
      "name": "python3",
      "display_name": "Python 3"
    },
    "language_info": {
      "name": "python"
    }
  },
  "cells": [
    {
      "cell_type": "markdown",
      "metadata": {
        "id": "view-in-github",
        "colab_type": "text"
      },
      "source": [
        "<a href=\"https://colab.research.google.com/github/sherlockieee/cs166/blob/main/session_19/CS166_PCW_Session_19.ipynb\" target=\"_parent\"><img src=\"https://colab.research.google.com/assets/colab-badge.svg\" alt=\"Open In Colab\"/></a>"
      ]
    },
    {
      "cell_type": "code",
      "execution_count": 1,
      "metadata": {
        "id": "Ztj9SSQJc_Of"
      },
      "outputs": [],
      "source": [
        "import matplotlib\n",
        "from pylab import *\n",
        "import networkx as nx\n",
        "import random as rd\n",
        "\n",
        "def initialize():\n",
        "    global g\n",
        "    g = nx.karate_club_graph()\n",
        "    g.pos = nx.spring_layout(g)\n",
        "    for i in g.nodes:\n",
        "        g.nodes[i][\"state\"] = 1 if random() < 0.5 else 0\n",
        "    global steps\n",
        "    steps = 0\n",
        "\n",
        "\n",
        "def observe():\n",
        "    global g\n",
        "    cla()\n",
        "    nx.draw(\n",
        "        g, vmin=0, vmax=1, node_color=[g.nodes[i][\"state\"] for i in g.nodes], pos=g.pos\n",
        "    )\n",
        "\n",
        "\n",
        "def update():\n",
        "    global g\n",
        "    listener = rd.choice(list(g.nodes))\n",
        "    speaker = rd.choice(list(g.neighbors(listener)))\n",
        "    g.nodes[listener][\"state\"] = g.nodes[speaker][\"state\"]"
      ]
    },
    {
      "cell_type": "code",
      "source": [
        "import matplotlib.pyplot as plt\n",
        "\n",
        "def run_experiment(init_func, update_func, repeats, title):\n",
        "    results = []\n",
        "\n",
        "    for _ in range(repeats):\n",
        "        init_func()\n",
        "        steps = 0\n",
        "        states = set(nx.get_node_attributes(g, 'state').values())\n",
        "        while len(states) != 1:\n",
        "            steps += 1\n",
        "            update_func()\n",
        "            states = set(nx.get_node_attributes(g, 'state').values())\n",
        "        results.append(steps)\n",
        "\n",
        "    plt.hist(results)\n",
        "    plt.xlabel(\"Number of steps until homogenized state\")\n",
        "    plt.ylabel(\"Frequency\")\n",
        "    plt.title(title)\n",
        "    return results\n",
        "\n",
        "results_original = run_experiment(initialize, update, 1000, \"Voter model - original version\")"
      ],
      "metadata": {
        "colab": {
          "base_uri": "https://localhost:8080/",
          "height": 295
        },
        "id": "OMkQRurldLUy",
        "outputId": "d4b68439-0600-4b51-e36e-66e4a2bc9fc6"
      },
      "execution_count": 8,
      "outputs": [
        {
          "output_type": "display_data",
          "data": {
            "text/plain": [
              "<Figure size 432x288 with 1 Axes>"
            ],
            "image/png": "[encoded data removed]"
          },
          "metadata": {
            "needs_background": "light"
          }
        }
      ]
    },
    {
      "cell_type": "code",
      "source": [
        "def update_reverse():\n",
        "    global g\n",
        "    speaker = rd.choice(list(g.nodes))\n",
        "    listener = rd.choice(list(g.neighbors(speaker)))\n",
        "    g.nodes[listener][\"state\"] = g.nodes[speaker][\"state\"]\n",
        "\n",
        "def update_edge_based():\n",
        "    global g\n",
        "    edge = rd.choice(list(g.edges))\n",
        "    speaker, listener = random.choice(edge, 2)\n",
        "    g.nodes[listener][\"state\"] = g.nodes[speaker][\"state\"]\n",
        "\n",
        "results_reversed = run_experiment(initialize, update_reverse, 1000, \"Voter model - reversed version\")"
      ],
      "metadata": {
        "colab": {
          "base_uri": "https://localhost:8080/",
          "height": 295
        },
        "id": "QF_Erh-ieRMx",
        "outputId": "add77e17-9019-4e9c-ef05-05799fd7caa2"
      },
      "execution_count": 9,
      "outputs": [
        {
          "output_type": "display_data",
          "data": {
            "text/plain": [
              "<Figure size 432x288 with 1 Axes>"
            ],
            "image/png": "[encoded data removed]"
          },
          "metadata": {
            "needs_background": "light"
          }
        }
      ]
    },
    {
      "cell_type": "code",
      "source": [
        "results_edge_based = run_experiment(initialize, update_reverse, 1000, \"Voter model - edge-based version\")"
      ],
      "metadata": {
        "colab": {
          "base_uri": "https://localhost:8080/",
          "height": 295
        },
        "id": "qOdhST26en3S",
        "outputId": "ed4eb3c6-eb7e-434b-a81a-2c76582b66f7"
      },
      "execution_count": 10,
      "outputs": [
        {
          "output_type": "display_data",
          "data": {
            "text/plain": [
              "<Figure size 432x288 with 1 Axes>"
            ],
            "image/png": "[encoded data removed]"
          },
          "metadata": {
            "needs_background": "light"
          }
        }
      ]
    },
    {
      "cell_type": "code",
      "source": [
        "import numpy as np\n",
        "\n",
        "print(f\"Mean of original version of voter model: {np.mean(results_original)}\")\n",
        "print(f\"Mean of reversed version of voter model: {np.mean(results_reversed)}\")\n",
        "print(f\"Mean of edge-based version of voter model: {np.mean(results_edge_based)}\")"
      ],
      "metadata": {
        "colab": {
          "base_uri": "https://localhost:8080/"
        },
        "id": "rK1R3cJ4gGY2",
        "outputId": "532730e2-0966-4395-8f77-00654574faf4"
      },
      "execution_count": 11,
      "outputs": [
        {
          "output_type": "stream",
          "name": "stdout",
          "text": [
            "Mean of original version of voter model: 616.702\n",
            "Mean of reversed version of voter model: 3686.946\n",
            "Mean of edge-based version of voter model: 3588.186\n"
          ]
        }
      ]
    },
    {
      "cell_type": "markdown",
      "source": [
        "The number of steps taken to get to the homogenized state is a lot more for reversed and edge-based version than original version."
      ],
      "metadata": {
        "id": "jLt6QHsihQvh"
      }
    },
    {
      "cell_type": "code",
      "source": [
        ""
      ],
      "metadata": {
        "id": "DZKUbBLqgiY-"
      },
      "execution_count": null,
      "outputs": []
    }
  ]
}