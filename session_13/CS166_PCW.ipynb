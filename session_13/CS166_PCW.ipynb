{
  "nbformat": 4,
  "nbformat_minor": 0,
  "metadata": {
    "colab": {
      "name": "CS166 PCW.ipynb",
      "provenance": [],
      "authorship_tag": "ABX9TyP2oMOCLhT2s3O77dphxtLl",
      "include_colab_link": true
    },
    "kernelspec": {
      "name": "python3",
      "display_name": "Python 3"
    },
    "language_info": {
      "name": "python"
    }
  },
  "cells": [
    {
      "cell_type": "markdown",
      "metadata": {
        "id": "view-in-github",
        "colab_type": "text"
      },
      "source": [
        "<a href=\"https://colab.research.google.com/github/sherlockieee/cs166/blob/main/session_13/CS166_PCW.ipynb\" target=\"_parent\"><img src=\"https://colab.research.google.com/assets/colab-badge.svg\" alt=\"Open In Colab\"/></a>"
      ]
    },
    {
      "cell_type": "code",
      "source": [
        "import scipy\n",
        "import numpy as np\n",
        "import matplotlib.pyplot as plt\n"
      ],
      "metadata": {
        "id": "ZFG7s4QjOhEu"
      },
      "execution_count": 1,
      "outputs": []
    },
    {
      "cell_type": "code",
      "execution_count": 2,
      "metadata": {
        "id": "fWyi0mfIMHVy"
      },
      "outputs": [],
      "source": [
        "def f(x):\n",
        "    Z = 24.44321494051954\n",
        "    if abs(x) > 7:\n",
        "        return 0\n",
        "    elif abs(x) > 3:\n",
        "        return 3 * (1-(x / 7) ** 2) ** 0.5 / Z\n",
        "    elif abs(x) > 1:\n",
        "        return ((3- abs(x))/2 - 3/7 * 10**0.5 * ((3 - x**2 + 2*abs(x))**0.5-2)) / Z\n",
        "    elif abs(x) > 0.75:\n",
        "        return (9-8 * abs(x)) / Z\n",
        "    elif abs(x) > 0.5:\n",
        "        return (3 * abs(x) + 0.75) / Z\n",
        "    else:\n",
        "        return 2.25 / Z"
      ]
    },
    {
      "cell_type": "code",
      "source": [
        "def metropolis_hasting(f, x0, steps):\n",
        "    states = []\n",
        "    x = x0\n",
        "\n",
        "    for i in range(steps):\n",
        "        y = np.random.normal(x, 2)\n",
        "\n",
        "        if np.random.uniform() < min(1, f(y) / f(x)):\n",
        "            x = y\n",
        "\n",
        "        if i % 100 == 0:\n",
        "            states.append(x)\n",
        "\n",
        "    return states\n",
        "\n",
        "x = np.arange(-8, 8, 0.1)\n",
        "y = [f(xi) for xi in x]\n",
        "\n",
        "plt.figure(figsize = (10, 5))\n",
        "y_approx = metropolis_hasting(f, x0 = 0, steps=100000)\n",
        "plt.plot(x, y, color=\"black\")\n",
        "plt.hist(y_approx, density=True, bins = 50)\n"
      ],
      "metadata": {
        "colab": {
          "base_uri": "https://localhost:8080/",
          "height": 713
        },
        "id": "oZz3qoSVMkru",
        "outputId": "091f8da7-da4e-4d8c-db31-3f881aa00d9d"
      },
      "execution_count": 9,
      "outputs": [
        {
          "output_type": "execute_result",
          "data": {
            "text/plain": [
              "(array([0.02534767, 0.03621096, 0.05069534, 0.05793753, 0.07242191,\n",
              "        0.06517972, 0.08690629, 0.0796641 , 0.09414848, 0.11949615,\n",
              "        0.11225396, 0.11587506, 0.11225396, 0.08690629, 0.10139067,\n",
              "        0.06155862, 0.02896876, 0.02896876, 0.02896876, 0.01810548,\n",
              "        0.03258986, 0.04707424, 0.10863287, 0.08690629, 0.09776958,\n",
              "        0.09776958, 0.11225396, 0.18467587, 0.05069534, 0.04707424,\n",
              "        0.02172657, 0.02896876, 0.01810548, 0.04707424, 0.06517972,\n",
              "        0.07242191, 0.12311725, 0.07604301, 0.10501177, 0.13035944,\n",
              "        0.10863287, 0.07242191, 0.09414848, 0.06880081, 0.06517972,\n",
              "        0.06880081, 0.08690629, 0.06880081, 0.03258986, 0.01810548]),\n",
              " array([-6.93374188, -6.65758236, -6.38142284, -6.10526332, -5.8291038 ,\n",
              "        -5.55294428, -5.27678476, -5.00062524, -4.72446572, -4.4483062 ,\n",
              "        -4.17214668, -3.89598716, -3.61982764, -3.34366812, -3.0675086 ,\n",
              "        -2.79134908, -2.51518956, -2.23903005, -1.96287053, -1.68671101,\n",
              "        -1.41055149, -1.13439197, -0.85823245, -0.58207293, -0.30591341,\n",
              "        -0.02975389,  0.24640563,  0.52256515,  0.79872467,  1.07488419,\n",
              "         1.35104371,  1.62720323,  1.90336275,  2.17952227,  2.45568179,\n",
              "         2.73184131,  3.00800082,  3.28416034,  3.56031986,  3.83647938,\n",
              "         4.1126389 ,  4.38879842,  4.66495794,  4.94111746,  5.21727698,\n",
              "         5.4934365 ,  5.76959602,  6.04575554,  6.32191506,  6.59807458,\n",
              "         6.8742341 ]),\n",
              " <a list of 50 Patch objects>)"
            ]
          },
          "metadata": {},
          "execution_count": 9
        },
        {
          "output_type": "display_data",
          "data": {
            "image/png": "[encoded data removed]",
            "text/plain": [
              "<Figure size 720x360 with 1 Axes>"
            ]
          },
          "metadata": {
            "needs_background": "light"
          }
        }
      ]
    },
    {
      "cell_type": "code",
      "source": [
        ""
      ],
      "metadata": {
        "id": "483U4DZZ1m4U"
      },
      "execution_count": null,
      "outputs": []
    }
  ]
}