{
  "nbformat": 4,
  "nbformat_minor": 0,
  "metadata": {
    "colab": {
      "name": "CS166 PCW Session 15.ipynb",
      "provenance": [],
      "collapsed_sections": [],
      "authorship_tag": "ABX9TyNgrMr7j6oJ4IoEezyIQkEZ",
      "include_colab_link": true
    },
    "kernelspec": {
      "name": "python3",
      "display_name": "Python 3"
    },
    "language_info": {
      "name": "python"
    }
  },
  "cells": [
    {
      "cell_type": "markdown",
      "metadata": {
        "id": "view-in-github",
        "colab_type": "text"
      },
      "source": [
        "<a href=\"https://colab.research.google.com/github/sherlockieee/cs166/blob/main/session_15/CS166_PCW_Session_15.ipynb\" target=\"_parent\"><img src=\"https://colab.research.google.com/assets/colab-badge.svg\" alt=\"Open In Colab\"/></a>"
      ]
    },
    {
      "cell_type": "code",
      "execution_count": 27,
      "metadata": {
        "colab": {
          "base_uri": "https://localhost:8080/",
          "height": 297
        },
        "id": "NFRgPe-dgckd",
        "outputId": "a98e5c0c-601a-46f8-966c-5fadb13e373d"
      },
      "outputs": [
        {
          "output_type": "display_data",
          "data": {
            "image/png": "[encoded data removed]",
            "text/plain": [
              "<Figure size 432x288 with 1 Axes>"
            ]
          },
          "metadata": {
            "needs_background": "light"
          }
        },
        {
          "output_type": "stream",
          "name": "stdout",
          "text": [
            "None\n"
          ]
        }
      ],
      "source": [
        "import random\n",
        "import numpy as np\n",
        "import matplotlib.pyplot as plt\n",
        "\n",
        "\n",
        "class Coin:\n",
        "    HEAD = \"head\"\n",
        "    TAIL = \"tail\"\n",
        "    def __init__(self, p_head, special_condition = None):\n",
        "        self.p_head = p_head\n",
        "        self.special_condition = special_condition\n",
        "    \n",
        "    def toss_coin(self):\n",
        "        return self.HEAD if random.random() < self.p_head else self.TAIL\n",
        "\n",
        "\n",
        "    def random_walk(self, steps):\n",
        "        dist_arr = [0]\n",
        "        dist = 0\n",
        "        for i in range(steps):\n",
        "            if self.toss_coin() == self.HEAD:\n",
        "                dist_arr.append(dist_arr[-1] + 1)\n",
        "                dist += 1\n",
        "            else:\n",
        "                dist_arr.append(dist_arr[-1] - 1)\n",
        "                dist -= 1\n",
        "            if self.special_condition is None:\n",
        "                continue\n",
        "            dist_arr, dist = self.special_condition(dist_arr, dist)\n",
        "            \n",
        "\n",
        "        return dist_arr, dist\n",
        "\n",
        "    def plot_random_walk(self, steps):\n",
        "        dist_arr, final_dist = self.random_walk(steps)\n",
        "        plt.plot(dist_arr)\n",
        "        plt.xlabel(\"Steps\")\n",
        "        plt.ylabel(\"Distance (to the right)\")\n",
        "        plt.show()\n",
        "        \n",
        "\n",
        "\n",
        "\n",
        "def reflection_barrier(dist_arr, dist):\n",
        "    if dist == -4:\n",
        "        dist_arr.append(-3)\n",
        "        dist = -3\n",
        "    return dist_arr, dist\n",
        "\n",
        "def partial_block(dist_arr, dist):\n",
        "    if dist == 6:\n",
        "        if random.random() < 0.75:\n",
        "            dist = 5\n",
        "            dist_arr.append(5)\n",
        "        else:\n",
        "            dist = 7\n",
        "            dist_arr.append(7)\n",
        "    return dist_arr, dist\n",
        "\n",
        "coin = Coin(0.5, special_condition = reflection_barrier)\n",
        "print(coin.plot_random_walk(30))\n"
      ]
    },
    {
      "cell_type": "code",
      "source": [
        "def sample(n = 10000, steps = 100, p_head = 0.5, special_condition = None):\n",
        "    coin = Coin(p_head, special_condition)\n",
        "    distance_arr = []\n",
        "    for rep in range(n):\n",
        "        dist = coin.random_walk(steps)[1]\n",
        "        distance_arr.append(dist)\n",
        "    \n",
        "    mean = np.mean(distance_arr)\n",
        "    var = np.var(distance_arr)\n",
        "    plt.hist(distance_arr)\n",
        "    \n",
        "    plt.title(f\"Histogram of final locations\")\n",
        "    plt.ylabel(\"Frequency\")\n",
        "    plt.xlabel(\"Distance\")\n",
        "    plt.show()\n",
        "\n",
        "    return mean, var"
      ],
      "metadata": {
        "id": "ZEtmL462gmK0"
      },
      "execution_count": 31,
      "outputs": []
    },
    {
      "cell_type": "code",
      "source": [
        "sample(special_condition = reflection_barrier)\n"
      ],
      "metadata": {
        "colab": {
          "base_uri": "https://localhost:8080/",
          "height": 313
        },
        "id": "iGjYRXMJio1l",
        "outputId": "87810e47-48e6-4773-a846-65481b2cbf6f"
      },
      "execution_count": 32,
      "outputs": [
        {
          "output_type": "display_data",
          "data": {
            "image/png": "[encoded data removed]",
            "text/plain": [
              "<Figure size 432x288 with 1 Axes>"
            ]
          },
          "metadata": {
            "needs_background": "light"
          }
        },
        {
          "output_type": "execute_result",
          "data": {
            "text/plain": [
              "(4.9708, 41.19894736)"
            ]
          },
          "metadata": {},
          "execution_count": 32
        }
      ]
    },
    {
      "cell_type": "code",
      "source": [
        "sample(special_condition = partial_block)"
      ],
      "metadata": {
        "colab": {
          "base_uri": "https://localhost:8080/",
          "height": 313
        },
        "id": "8OGMKP9EiuYu",
        "outputId": "1754a0f5-aab8-4979-ea90-7433d2a14a0b"
      },
      "execution_count": 33,
      "outputs": [
        {
          "output_type": "display_data",
          "data": {
            "image/png": "[encoded data removed]",
            "text/plain": [
              "<Figure size 432x288 with 1 Axes>"
            ]
          },
          "metadata": {
            "needs_background": "light"
          }
        },
        {
          "output_type": "execute_result",
          "data": {
            "text/plain": [
              "(-2.0877, 77.08240871000001)"
            ]
          },
          "metadata": {},
          "execution_count": 33
        }
      ]
    },
    {
      "cell_type": "code",
      "source": [
        ""
      ],
      "metadata": {
        "id": "eh1Cvd2giu3a"
      },
      "execution_count": null,
      "outputs": []
    }
  ]
}