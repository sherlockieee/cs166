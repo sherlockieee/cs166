{
  "nbformat": 4,
  "nbformat_minor": 0,
  "metadata": {
    "colab": {
      "name": "CS166 PCW Session 11.ipynb",
      "provenance": [],
      "authorship_tag": "ABX9TyOfRqqT54qTMf5ctPqBARx9",
      "include_colab_link": true
    },
    "kernelspec": {
      "name": "python3",
      "display_name": "Python 3"
    },
    "language_info": {
      "name": "python"
    }
  },
  "cells": [
    {
      "cell_type": "markdown",
      "metadata": {
        "id": "view-in-github",
        "colab_type": "text"
      },
      "source": [
        "<a href=\"https://colab.research.google.com/github/sherlockieee/cs166/blob/main/session_11/CS166_PCW_Session_11.ipynb\" target=\"_parent\"><img src=\"https://colab.research.google.com/assets/colab-badge.svg\" alt=\"Open In Colab\"/></a>"
      ]
    },
    {
      "cell_type": "markdown",
      "source": [
        "## Sampling bias for bus waiting times"
      ],
      "metadata": {
        "id": "p1XOGpVYjdSe"
      }
    },
    {
      "cell_type": "code",
      "source": [
        "import numpy as np\n",
        "import scipy.stats as sts\n",
        "import scipy\n",
        "import matplotlib.pyplot as plt"
      ],
      "metadata": {
        "id": "3zFToTsytAZ-"
      },
      "execution_count": 13,
      "outputs": []
    },
    {
      "cell_type": "code",
      "execution_count": 29,
      "metadata": {
        "colab": {
          "base_uri": "https://localhost:8080/",
          "height": 297
        },
        "id": "X231rVwSjZwj",
        "outputId": "ec2b07da-298f-4a51-d752-40a6e2c695b7"
      },
      "outputs": [
        {
          "output_type": "display_data",
          "data": {
            "image/png": "[encoded data removed]",
            "text/plain": [
              "<Figure size 432x288 with 1 Axes>"
            ]
          },
          "metadata": {
            "needs_background": "light"
          }
        },
        {
          "output_type": "execute_result",
          "data": {
            "text/plain": [
              "(1.0039230748944818, 1.0490397048664883)"
            ]
          },
          "metadata": {},
          "execution_count": 29
        }
      ],
      "source": [
        "lambda_val = 1\n",
        "start_time = 0\n",
        "end_time = 10\n",
        "exponential_distribution = sts.expon(scale = 1/lambda_val)\n",
        "uniform_distribution = sts.uniform(loc = 0, scale = lambda_val * 2)\n",
        "\n",
        "\n",
        "def binary_search_next_largest(sorted_arr, val):\n",
        "    l = 0\n",
        "    r = len(sorted_arr)\n",
        "\n",
        "    while l < r:\n",
        "        mid = (l + r) // 2\n",
        "        if sorted_arr[mid] < val:\n",
        "            l = mid + 1\n",
        "        else:\n",
        "            r = mid\n",
        "    return sorted_arr[l]\n",
        "\n",
        "\n",
        "def get_waiting_time(distribution, start_time = start_time, end_time = end_time):\n",
        "    duration = end_time - start_time\n",
        "    bus_arrival_times = [distribution.rvs()]\n",
        "    while bus_arrival_times[-1] <= end_time:\n",
        "        bus_arrival_times.append(bus_arrival_times[-1] + distribution.rvs())\n",
        "    passenger_arrival = sts.uniform(loc=start_time, scale=end_time).rvs()\n",
        "\n",
        "    #do binary search so it's faster\n",
        "    next_arrival = binary_search_next_largest(bus_arrival_times, passenger_arrival)\n",
        "    return next_arrival - passenger_arrival\n",
        "\n",
        "\n",
        "def simulate_waiting_time(reps = 10000, *args, **kwargs):\n",
        "    waiting_times = []\n",
        "    for _ in range(reps):\n",
        "        waiting_times.append(get_waiting_time(*args, **kwargs))\n",
        "\n",
        "    plt.hist(waiting_times)\n",
        "    plt.xlabel(\"Waiting times\")\n",
        "    plt.ylabel(\"Frequency\")\n",
        "    plt.show()\n",
        "    \n",
        "    return (np.mean(waiting_times), np.var(waiting_times))\n",
        "\n",
        "simulate_waiting_time(distribution = exponential_distribution)\n"
      ]
    },
    {
      "cell_type": "code",
      "source": [
        "simulate_waiting_time(distribution = uniform_distribution)"
      ],
      "metadata": {
        "colab": {
          "base_uri": "https://localhost:8080/",
          "height": 297
        },
        "id": "0mHlMiySz3HT",
        "outputId": "c0df1c79-f049-41bf-fe04-c1e5072001c7"
      },
      "execution_count": 30,
      "outputs": [
        {
          "output_type": "display_data",
          "data": {
            "image/png": "[encoded data removed]",
            "text/plain": [
              "<Figure size 432x288 with 1 Axes>"
            ]
          },
          "metadata": {
            "needs_background": "light"
          }
        },
        {
          "output_type": "execute_result",
          "data": {
            "text/plain": [
              "(0.6670609692945713, 0.22224214211741036)"
            ]
          },
          "metadata": {},
          "execution_count": 30
        }
      ]
    },
    {
      "cell_type": "code",
      "source": [
        "lambda_val = 3\n",
        "start_time = 0\n",
        "end_time = 30\n",
        "exponential_distribution = sts.expon(scale = 1/lambda_val)\n",
        "uniform_distribution = sts.uniform(loc = 0, scale = lambda_val * 2)\n",
        "simulate_waiting_time(distribution = exponential_distribution)"
      ],
      "metadata": {
        "colab": {
          "base_uri": "https://localhost:8080/",
          "height": 297
        },
        "id": "pzdAKiCU0uwA",
        "outputId": "9a4436d6-903f-4245-eb4e-d44ed605cac6"
      },
      "execution_count": 31,
      "outputs": [
        {
          "output_type": "display_data",
          "data": {
            "image/png": "[encoded data removed]",
            "text/plain": [
              "<Figure size 432x288 with 1 Axes>"
            ]
          },
          "metadata": {
            "needs_background": "light"
          }
        },
        {
          "output_type": "execute_result",
          "data": {
            "text/plain": [
              "(0.33316609859760327, 0.11456766285828986)"
            ]
          },
          "metadata": {},
          "execution_count": 31
        }
      ]
    },
    {
      "cell_type": "code",
      "source": [
        "simulate_waiting_time(distribution = uniform_distribution)"
      ],
      "metadata": {
        "colab": {
          "base_uri": "https://localhost:8080/",
          "height": 297
        },
        "id": "9Ql8JGts03MM",
        "outputId": "0ad5a401-ff4e-47e2-e983-0c5d2e4f848c"
      },
      "execution_count": 32,
      "outputs": [
        {
          "output_type": "display_data",
          "data": {
            "image/png": "[encoded data removed]",
            "text/plain": [
              "<Figure size 432x288 with 1 Axes>"
            ]
          },
          "metadata": {
            "needs_background": "light"
          }
        },
        {
          "output_type": "execute_result",
          "data": {
            "text/plain": [
              "(2.0817050643896167, 2.039100669236283)"
            ]
          },
          "metadata": {},
          "execution_count": 32
        }
      ]
    },
    {
      "cell_type": "markdown",
      "source": [
        "We can see that the expected waiting time for exponential distribution is roughly equal to 1/lambda, whereas the uniform distribution is roughly equal to 2/3 * lambda. "
      ],
      "metadata": {
        "id": "pkVMyRXN0asd"
      }
    },
    {
      "cell_type": "markdown",
      "source": [
        "## Retirement benefit projection"
      ],
      "metadata": {
        "id": "HzVuwAD1jfo-"
      }
    },
    {
      "cell_type": "code",
      "source": [
        "data = {\n",
        "    50: 0.00832,\n",
        "    51: 0.00911,\n",
        "    52: 0.00996,\n",
        "    53: 0.01089,\n",
        "    54: 0.01190,\n",
        "    55: 0.01300,\n",
        "    56: 0.01421,\n",
        "    57: 0.01554,\n",
        "    58: 0.01700,\n",
        "    59: 0.01859,\n",
        "    60: 0.02034,\n",
        "    61: 0.02224,\n",
        "    62: 0.02431,\n",
        "    63: 0.02657,\n",
        "    64: 0.02904,\n",
        "    65: 0.03175,\n",
        "    66: 0.03474,\n",
        "    67: 0.03804,\n",
        "    68: 0.04168,\n",
        "    69: 0.04561,\n",
        "    70: 0.04979,\n",
        "    71: 0.05415,\n",
        "    72: 0.05865,\n",
        "    73: 0.06326,\n",
        "    74: 0.06812,\n",
        "    75: 0.07337,\n",
        "    76: 0.07918,\n",
        "    77: 0.08570,\n",
        "    78: 0.09306,\n",
        "    79: 0.10119,\n",
        "    80: 0.10998,\n",
        "    81: 0.11935,\n",
        "    82: 0.12917,\n",
        "    83: 0.13938,\n",
        "    84: 0.15001,\n",
        "    85: 0.16114,\n",
        "    86: 0.17282,\n",
        "    87: 0.18513,\n",
        "    88: 0.19825,\n",
        "    89: 0.21246,\n",
        "    90: 0.22814,\n",
        "    91: 0.24577,\n",
        "    92: 0.26593,\n",
        "    93: 0.28930,\n",
        "    94: 0.31666,\n",
        "    95: 0.35124,\n",
        "    96: 0.40056,\n",
        "    97: 0.48842,\n",
        "    98: 0.66815,\n",
        "    99: 0.72000,\n",
        "    100: 0.76000,\n",
        "    101: 0.80000,\n",
        "    102: 0.85000,\n",
        "    103: 0.90000,\n",
        "    104: 0.96000,\n",
        "    105: 1.00000}"
      ],
      "metadata": {
        "id": "zTblADGdjhRg"
      },
      "execution_count": 1,
      "outputs": []
    },
    {
      "cell_type": "code",
      "source": [
        "\n"
      ],
      "metadata": {
        "id": "YpMDbgh1krnz"
      },
      "execution_count": 11,
      "outputs": []
    },
    {
      "cell_type": "code",
      "source": [
        "initial = 150000\n",
        "interest_mean = 0.08\n",
        "interest_std = 0.09\n",
        "investing = 10000\n",
        "starting_age = 50\n",
        "withdrawal = 65000\n",
        "withdrawal_age = 70\n",
        "def money_at_death(initial = initial, interest_mean = interest_mean, \n",
        "                   interest_std = interest_std, investing = investing, \n",
        "                   starting_age = starting_age, withdrawal = withdrawal,\n",
        "                   withdrawal_age = withdrawal_age, mortality_table = data):\n",
        "    \n",
        "    investment_distribution = sts.norm(loc=interest_mean, scale=interest_std)\n",
        "\n",
        "    total_money = initial\n",
        "    current_age = starting_age\n",
        "\n",
        "    while np.random.uniform(size=1) > mortality_table[current_age]:\n",
        "        total_money *= (1 + investment_distribution.rvs())\n",
        "        if current_age < withdrawal_age:\n",
        "            total_money += investing\n",
        "        else:\n",
        "            total_money -= withdrawal\n",
        "        current_age += 1\n",
        "    \n",
        "    return total_money\n",
        "\n",
        "def simulate_total_money(reps = 1000, *args, **kwargs):\n",
        "    y_vals = []\n",
        "    for _ in range(reps):\n",
        "        y_vals.append(money_at_death(*args, **kwargs))\n",
        "    plt.hist(y_vals)\n",
        "    plt.xlabel(\"Amount of money at death\")\n",
        "    plt.ylabel(\"Frequency\")\n",
        "\n",
        "simulate_total_money()"
      ],
      "metadata": {
        "colab": {
          "base_uri": "https://localhost:8080/",
          "height": 279
        },
        "id": "wWOhZ3xMjnRn",
        "outputId": "86c52da9-d628-4bb2-9f8e-29aeb520b0b6"
      },
      "execution_count": 11,
      "outputs": [
        {
          "output_type": "display_data",
          "data": {
            "image/png": "[encoded data removed]",
            "text/plain": [
              "<Figure size 432x288 with 1 Axes>"
            ]
          },
          "metadata": {
            "needs_background": "light"
          }
        }
      ]
    },
    {
      "cell_type": "code",
      "source": [
        ""
      ],
      "metadata": {
        "id": "Ax1pUGN0myIB"
      },
      "execution_count": 10,
      "outputs": []
    }
  ]
}