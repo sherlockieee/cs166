{
  "nbformat": 4,
  "nbformat_minor": 0,
  "metadata": {
    "colab": {
      "name": "CS166 PCW Session 14.ipynb",
      "provenance": [],
      "collapsed_sections": [],
      "authorship_tag": "ABX9TyN1CwEGgEQDDh4FdE/CcNnn",
      "include_colab_link": true
    },
    "kernelspec": {
      "name": "python3",
      "display_name": "Python 3"
    },
    "language_info": {
      "name": "python"
    }
  },
  "cells": [
    {
      "cell_type": "markdown",
      "metadata": {
        "id": "view-in-github",
        "colab_type": "text"
      },
      "source": [
        "<a href=\"https://colab.research.google.com/github/sherlockieee/cs166/blob/main/session_14/CS166_PCW_Session_14.ipynb\" target=\"_parent\"><img src=\"https://colab.research.google.com/assets/colab-badge.svg\" alt=\"Open In Colab\"/></a>"
      ]
    },
    {
      "cell_type": "code",
      "execution_count": 1,
      "metadata": {
        "id": "sp1I6DaTVKSr"
      },
      "outputs": [],
      "source": [
        "import numpy as np\n",
        "import matplotlib.pyplot as plt\n",
        "\n",
        "class IsingSimulation:\n",
        "\n",
        "    J = 6.34369e-21  # Interaction constant for iron [Joule]\n",
        "    kB = 1.38065e-23  # Boltzmann constant [Joule / Kelvin]\n",
        "\n",
        "    def __init__(self, size, temperature=300):\n",
        "        '''\n",
        "        Create a new Ising model simulation. The state is initialized\n",
        "        randomly.\n",
        "\n",
        "        Arguments:\n",
        "\n",
        "            size (int) The number of cells along each dimension of the\n",
        "              square grid.\n",
        "\n",
        "            temperature (float) The temperature in Kelvin at which to\n",
        "              run the simulation. The Curie temperature for iron is\n",
        "              1043 K. Room temperature is about 300 K. Default: 300.\n",
        "        '''\n",
        "        self.size = size\n",
        "        self.temperature = temperature\n",
        "        self.state = np.random.choice(\n",
        "            [-1, +1], size=(self.size, self.size))\n",
        "        self.step = 0\n",
        "\n",
        "    def set_temperature(self, temp):\n",
        "        '''\n",
        "        Set the temperature of the model in Kelvin.\n",
        "        '''\n",
        "        self.temperature = float(temp)\n",
        "\n",
        "    def energy(self):\n",
        "        '''\n",
        "        Compute the energy of the current state of the model.\n",
        "        '''\n",
        "        return -self.J * (self.state * (\n",
        "            np.roll(self.state, 1, axis=0) +\n",
        "            np.roll(self.state, 1, axis=1))).sum()\n",
        "\n",
        "    def average_magnetism(self):\n",
        "        '''\n",
        "        Compute the average per-cell magnetism of the current state\n",
        "        of the model.\n",
        "        '''\n",
        "        return self.state.mean()\n",
        "\n",
        "    def update(self):\n",
        "        '''\n",
        "        Do a single cell update of the model state.\n",
        "        '''\n",
        "        # Pick a random cell to flip\n",
        "        i, j = np.random.randint(self.size, size=2)\n",
        "\n",
        "        # Change in energy from current state to next state\n",
        "        delta_E = 2 * self.J * self.state[i,j] * (\n",
        "            self.state[(i + 1) % self.size, j] +\n",
        "            self.state[(i - 1) % self.size, j] +\n",
        "            self.state[i, (j + 1) % self.size] +\n",
        "            self.state[i, (j - 1) % self.size])\n",
        "\n",
        "        # Log probability of changing state\n",
        "        log_p = -delta_E / (self.temperature * self.kB)\n",
        "        if np.log(np.random.uniform(0, 1)) < log_p:\n",
        "            self.state[i,j] = -self.state[i,j]\n",
        "\n",
        "        self.step += 1\n",
        "\n",
        "    def display(self):\n",
        "        '''\n",
        "        Plot the state of the model.\n",
        "        '''\n",
        "        plt.figure()\n",
        "        plt.imshow(self.state, vmin=-1, vmax=+1)\n",
        "        plt.title('Step: ' + str(self.step) + ', M = ' + str(self.average_magnetism()))"
      ]
    },
    {
      "cell_type": "code",
      "source": [
        "size = 20\n",
        "sim = IsingSimulation(size, temperature=1)  # Ising model at the Curie temperature\n",
        "for _ in range(100000):\n",
        "    sim.update()\n",
        "sim.display()"
      ],
      "metadata": {
        "colab": {
          "base_uri": "https://localhost:8080/",
          "height": 281
        },
        "id": "5qdxka2kVNic",
        "outputId": "7a7944b0-a5fb-4e70-c871-da25deb75c5b"
      },
      "execution_count": 8,
      "outputs": [
        {
          "output_type": "display_data",
          "data": {
            "image/png": "[encoded data removed]",
            "text/plain": [
              "<Figure size 432x288 with 1 Axes>"
            ]
          },
          "metadata": {
            "needs_background": "light"
          }
        }
      ]
    },
    {
      "cell_type": "code",
      "source": [
        "magnetisms = []\n",
        "reps = 100\n",
        "steps = 100000\n",
        "for i in range(reps):\n",
        "    sim = IsingSimulation(size, temperature = 1)\n",
        "    for _ in range(steps):\n",
        "        sim.update()\n",
        "    magnetisms.append(sim.average_magnetism())\n",
        "\n",
        "plt.hist(magnetisms)\n",
        "plt.xlabel(\"Average magnetization\")\n",
        "plt.ylabel(\"Frequency\")\n",
        "plt.title(\"Average magnetization at temperature 1 Kelvin\")"
      ],
      "metadata": {
        "colab": {
          "base_uri": "https://localhost:8080/",
          "height": 313
        },
        "id": "i9V4NmD-VQPJ",
        "outputId": "c5e9504d-6c99-4ebc-ba84-cb04c13b430e"
      },
      "execution_count": 9,
      "outputs": [
        {
          "output_type": "execute_result",
          "data": {
            "text/plain": [
              "Text(0.5, 1.0, 'Average magnetization at temperature 1 Kelvin')"
            ]
          },
          "metadata": {},
          "execution_count": 9
        },
        {
          "output_type": "display_data",
          "data": {
            "image/png": "[encoded data removed]",
            "text/plain": [
              "<Figure size 432x288 with 1 Axes>"
            ]
          },
          "metadata": {
            "needs_background": "light"
          }
        }
      ]
    },
    {
      "cell_type": "code",
      "source": [
        "magnetisms = []\n",
        "reps = 100\n",
        "steps = 100000\n",
        "wait = 100\n",
        "for i in range(reps):\n",
        "    sim = IsingSimulation(size, temperature = 2000)\n",
        "    while sim.temperature > 1:\n",
        "        for j in range(wait):\n",
        "            sim.update()\n",
        "        sim.set_temperature(sim.temperature - 1)\n",
        "\n",
        "    for _ in range(steps):\n",
        "        sim.update()\n",
        "    magnetisms.append(sim.average_magnetism())\n",
        "\n",
        "plt.hist(magnetisms)\n",
        "plt.xlabel(\"Average magnetization\")\n",
        "plt.ylabel(\"Frequency\")\n",
        "plt.title(\"Average magnetization with slow drop down from 2000 Kelvin\")"
      ],
      "metadata": {
        "colab": {
          "base_uri": "https://localhost:8080/",
          "height": 313
        },
        "id": "uOvrpJsvW1fs",
        "outputId": "3d9668de-6ffe-409c-816b-7a8c163d0766"
      },
      "execution_count": 10,
      "outputs": [
        {
          "output_type": "execute_result",
          "data": {
            "text/plain": [
              "Text(0.5, 1.0, 'Average magnetization with slow drop down from 2000 Kelvin')"
            ]
          },
          "metadata": {},
          "execution_count": 10
        },
        {
          "output_type": "display_data",
          "data": {
            "image/png": "[encoded data removed]",
            "text/plain": [
              "<Figure size 432x288 with 1 Axes>"
            ]
          },
          "metadata": {
            "needs_background": "light"
          }
        }
      ]
    }
  ]
}